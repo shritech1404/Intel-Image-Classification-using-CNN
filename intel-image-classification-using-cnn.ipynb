{
 "cells": [
  {
   "cell_type": "code",
   "execution_count": 1,
   "id": "0177d821",
   "metadata": {
    "execution": {
     "iopub.execute_input": "2022-03-01T10:42:13.845949Z",
     "iopub.status.busy": "2022-03-01T10:42:13.844664Z",
     "iopub.status.idle": "2022-03-01T10:42:20.883376Z",
     "shell.execute_reply": "2022-03-01T10:42:20.882638Z",
     "shell.execute_reply.started": "2022-03-01T09:31:18.224322Z"
    },
    "papermill": {
     "duration": 7.05059,
     "end_time": "2022-03-01T10:42:20.883602",
     "exception": false,
     "start_time": "2022-03-01T10:42:13.833012",
     "status": "completed"
    },
    "tags": []
   },
   "outputs": [],
   "source": [
    "#importing Libraries\n",
    "import tensorflow as tf\n",
    "import numpy as np\n",
    "from tensorflow.keras.models import Sequential\n",
    "from tensorflow.keras.layers import Convolution2D\n",
    "from tensorflow.keras.layers import MaxPooling2D\n",
    "from tensorflow.keras.layers import Flatten\n",
    "from tensorflow.keras.layers import Dense\n",
    "from tensorflow.keras.preprocessing import image\n",
    "import warnings\n",
    "warnings.filterwarnings('ignore')\n",
    "from tensorflow.keras.preprocessing.image import ImageDataGenerator\n",
    "import cv2\n"
   ]
  },
  {
   "cell_type": "code",
   "execution_count": 2,
   "id": "0e5a3cde",
   "metadata": {
    "execution": {
     "iopub.execute_input": "2022-03-01T10:42:20.910802Z",
     "iopub.status.busy": "2022-03-01T10:42:20.906686Z",
     "iopub.status.idle": "2022-03-01T10:42:25.817836Z",
     "shell.execute_reply": "2022-03-01T10:42:25.818356Z",
     "shell.execute_reply.started": "2022-03-01T09:33:02.142690Z"
    },
    "papermill": {
     "duration": 4.926527,
     "end_time": "2022-03-01T10:42:25.818579",
     "exception": false,
     "start_time": "2022-03-01T10:42:20.892052",
     "status": "completed"
    },
    "tags": []
   },
   "outputs": [
    {
     "name": "stderr",
     "output_type": "stream",
     "text": [
      "2022-03-01 10:42:20.947243: I tensorflow/core/common_runtime/process_util.cc:146] Creating new thread pool with default inter op setting: 2. Tune using inter_op_parallelism_threads for best performance.\n"
     ]
    },
    {
     "name": "stdout",
     "output_type": "stream",
     "text": [
      "Found 14034 images belonging to 6 classes.\n",
      "Found 3000 images belonging to 6 classes.\n"
     ]
    }
   ],
   "source": [
    "def brightness_adjustment(img):\n",
    "    # turn the image into the HSV space\n",
    "    hsv = cv2.cvtColor(img, cv2.COLOR_RGB2HSV)\n",
    "    # return the image int the BGR color space\n",
    "    return cv2.cvtColor(hsv, cv2.COLOR_HSV2BGR)\n",
    "\n",
    "\n",
    "# initialising the CNN\n",
    "\n",
    "classifier = Sequential()\n",
    "\n",
    "\n",
    "# Step 1 Convolution\n",
    "classifier.add(Convolution2D(32,3,3,input_shape=(112,112,3),activation = 'relu' ))\n",
    "\n",
    "#step 2 Pooling\n",
    "classifier.add(MaxPooling2D(pool_size=(2,2)))\n",
    "\n",
    "\n",
    "# Adding a second comvolution layer\n",
    "classifier.add(Convolution2D(64,3,3,activation = 'relu' ))\n",
    "\n",
    "classifier.add(MaxPooling2D(pool_size=(2,2)))\n",
    "\n",
    "\n",
    "\n",
    "# step3 Flattening\n",
    "classifier.add(Flatten())\n",
    "\n",
    "#step4 Full connection\n",
    "classifier.add(Dense(128,activation = 'relu'))\n",
    "\n",
    "classifier.add(Dense(1,activation = 'sigmoid'))\n",
    "\n",
    "# Compiling the CNN\n",
    "classifier.compile(optimizer='adam',loss='binary_crossentropy',metrics=['accuracy'])\n",
    "\n",
    "\n",
    "\n",
    "#Part 2 - Fitting the data\n",
    "\n",
    "train_datagen = ImageDataGenerator(\n",
    "\tpreprocessing_function=brightness_adjustment,\n",
    "        rescale=1./255,\n",
    "        shear_range=0.2,\n",
    "        zoom_range=0.2,\n",
    "        horizontal_flip=True)\n",
    "\n",
    "test_datagen = ImageDataGenerator(preprocessing_function=brightness_adjustment,rescale=1./255)\n",
    "\n",
    "training_set = train_datagen.flow_from_directory(\n",
    "        '/kaggle/input/intel-image-classification/seg_train/seg_train/',\n",
    "        target_size=(112, 112),\n",
    "        batch_size=32,\n",
    "        class_mode='categorical')\n",
    "test_set = test_datagen.flow_from_directory(\n",
    "        '/kaggle/input/intel-image-classification/seg_test/seg_test/',\n",
    "        target_size=(112, 112),\n",
    "        batch_size=32,\n",
    "        class_mode='categorical')\n"
   ]
  },
  {
   "cell_type": "code",
   "execution_count": 3,
   "id": "a981d558",
   "metadata": {
    "execution": {
     "iopub.execute_input": "2022-03-01T10:42:25.836951Z",
     "iopub.status.busy": "2022-03-01T10:42:25.836257Z",
     "iopub.status.idle": "2022-03-01T10:42:25.845188Z",
     "shell.execute_reply": "2022-03-01T10:42:25.844538Z",
     "shell.execute_reply.started": "2022-03-01T10:23:15.273173Z"
    },
    "papermill": {
     "duration": 0.018841,
     "end_time": "2022-03-01T10:42:25.845332",
     "exception": false,
     "start_time": "2022-03-01T10:42:25.826491",
     "status": "completed"
    },
    "tags": []
   },
   "outputs": [
    {
     "name": "stdout",
     "output_type": "stream",
     "text": [
      "Model: \"sequential\"\n",
      "_________________________________________________________________\n",
      "Layer (type)                 Output Shape              Param #   \n",
      "=================================================================\n",
      "conv2d (Conv2D)              (None, 37, 37, 32)        896       \n",
      "_________________________________________________________________\n",
      "max_pooling2d (MaxPooling2D) (None, 18, 18, 32)        0         \n",
      "_________________________________________________________________\n",
      "conv2d_1 (Conv2D)            (None, 6, 6, 64)          18496     \n",
      "_________________________________________________________________\n",
      "max_pooling2d_1 (MaxPooling2 (None, 3, 3, 64)          0         \n",
      "_________________________________________________________________\n",
      "flatten (Flatten)            (None, 576)               0         \n",
      "_________________________________________________________________\n",
      "dense (Dense)                (None, 128)               73856     \n",
      "_________________________________________________________________\n",
      "dense_1 (Dense)              (None, 1)                 129       \n",
      "=================================================================\n",
      "Total params: 93,377\n",
      "Trainable params: 93,377\n",
      "Non-trainable params: 0\n",
      "_________________________________________________________________\n"
     ]
    }
   ],
   "source": [
    "classifier.summary()"
   ]
  },
  {
   "cell_type": "code",
   "execution_count": 4,
   "id": "1098a131",
   "metadata": {
    "execution": {
     "iopub.execute_input": "2022-03-01T10:42:25.866383Z",
     "iopub.status.busy": "2022-03-01T10:42:25.865674Z",
     "iopub.status.idle": "2022-03-01T10:56:12.195144Z",
     "shell.execute_reply": "2022-03-01T10:56:12.195682Z",
     "shell.execute_reply.started": "2022-03-01T09:33:06.882731Z"
    },
    "papermill": {
     "duration": 826.342688,
     "end_time": "2022-03-01T10:56:12.195882",
     "exception": false,
     "start_time": "2022-03-01T10:42:25.853194",
     "status": "completed"
    },
    "tags": []
   },
   "outputs": [
    {
     "name": "stderr",
     "output_type": "stream",
     "text": [
      "2022-03-01 10:42:26.210647: I tensorflow/compiler/mlir/mlir_graph_optimization_pass.cc:185] None of the MLIR Optimization Passes are enabled (registered 2)\n"
     ]
    },
    {
     "name": "stdout",
     "output_type": "stream",
     "text": [
      "Epoch 1/10\n",
      "439/439 [==============================] - 122s 275ms/step - loss: 0.4534 - accuracy: 0.8318 - val_loss: 0.4507 - val_accuracy: 0.8333\n",
      "Epoch 2/10\n",
      "439/439 [==============================] - 67s 152ms/step - loss: 0.4506 - accuracy: 0.8333\n",
      "Epoch 3/10\n",
      "439/439 [==============================] - 67s 152ms/step - loss: 0.4506 - accuracy: 0.8333\n",
      "Epoch 4/10\n",
      "439/439 [==============================] - 65s 149ms/step - loss: 0.4506 - accuracy: 0.8333\n",
      "Epoch 5/10\n",
      "439/439 [==============================] - 66s 150ms/step - loss: 0.4506 - accuracy: 0.8333\n",
      "Epoch 6/10\n",
      "439/439 [==============================] - 66s 151ms/step - loss: 0.4506 - accuracy: 0.8333\n",
      "Epoch 7/10\n",
      "439/439 [==============================] - 66s 150ms/step - loss: 0.4506 - accuracy: 0.8333\n",
      "Epoch 8/10\n",
      "439/439 [==============================] - 66s 151ms/step - loss: 0.4506 - accuracy: 0.8333\n",
      "Epoch 9/10\n",
      "439/439 [==============================] - 65s 148ms/step - loss: 0.4506 - accuracy: 0.8333\n",
      "Epoch 10/10\n",
      "439/439 [==============================] - 66s 149ms/step - loss: 0.4506 - accuracy: 0.8333\n"
     ]
    },
    {
     "data": {
      "text/plain": [
       "<keras.callbacks.History at 0x7f4d5b644f10>"
      ]
     },
     "execution_count": 4,
     "metadata": {},
     "output_type": "execute_result"
    }
   ],
   "source": [
    "classifier.fit(training_set,\n",
    "        epochs=10,\n",
    "        validation_data=test_set,\n",
    "        validation_steps=2000)"
   ]
  },
  {
   "cell_type": "code",
   "execution_count": null,
   "id": "3703d45c",
   "metadata": {
    "papermill": {
     "duration": 1.596893,
     "end_time": "2022-03-01T10:56:15.446479",
     "exception": false,
     "start_time": "2022-03-01T10:56:13.849586",
     "status": "completed"
    },
    "tags": []
   },
   "outputs": [],
   "source": []
  }
 ],
 "metadata": {
  "kernelspec": {
   "display_name": "Python 3",
   "language": "python",
   "name": "python3"
  },
  "language_info": {
   "codemirror_mode": {
    "name": "ipython",
    "version": 3
   },
   "file_extension": ".py",
   "mimetype": "text/x-python",
   "name": "python",
   "nbconvert_exporter": "python",
   "pygments_lexer": "ipython3",
   "version": "3.7.12"
  },
  "papermill": {
   "default_parameters": {},
   "duration": 856.36378,
   "end_time": "2022-03-01T10:56:19.718693",
   "environment_variables": {},
   "exception": null,
   "input_path": "__notebook__.ipynb",
   "output_path": "__notebook__.ipynb",
   "parameters": {},
   "start_time": "2022-03-01T10:42:03.354913",
   "version": "2.3.3"
  }
 },
 "nbformat": 4,
 "nbformat_minor": 5
}
